{
 "cells": [
  {
   "cell_type": "code",
   "execution_count": 1,
   "id": "bc8a474a",
   "metadata": {
    "_cell_guid": "b1076dfc-b9ad-4769-8c92-a6c4dae69d19",
    "_uuid": "8f2839f25d086af736a60e9eeb907d3b93b6e0e5",
    "execution": {
     "iopub.execute_input": "2022-02-16T08:16:11.398298Z",
     "iopub.status.busy": "2022-02-16T08:16:11.397475Z",
     "iopub.status.idle": "2022-02-16T08:16:12.684813Z",
     "shell.execute_reply": "2022-02-16T08:16:12.683860Z"
    },
    "papermill": {
     "duration": 1.313273,
     "end_time": "2022-02-16T08:16:12.684999",
     "exception": false,
     "start_time": "2022-02-16T08:16:11.371726",
     "status": "completed"
    },
    "tags": []
   },
   "outputs": [],
   "source": [
    "# Import Libraries\n",
    "import torch\n",
    "import numpy as np\n",
    "import matplotlib\n",
    "import matplotlib.pyplot as plt\n",
    "import pandas as pd\n",
    "import torch.nn as nn\n",
    "import torch.nn.functional as F\n",
    "from torch.utils.data import TensorDataset\n",
    "from torch.utils.data.dataloader import DataLoader\n",
    "from torch.utils.data import random_split\n",
    "%matplotlib inline\n",
    "matplotlib.rcParams['figure.facecolor'] = '#ffffff'   # Background_color = white (fot matplotlib figures)"
   ]
  },
  {
   "cell_type": "code",
   "execution_count": 2,
   "id": "01950acb",
   "metadata": {
    "execution": {
     "iopub.execute_input": "2022-02-16T08:16:12.714335Z",
     "iopub.status.busy": "2022-02-16T08:16:12.713349Z",
     "iopub.status.idle": "2022-02-16T08:16:12.725355Z",
     "shell.execute_reply": "2022-02-16T08:16:12.725815Z"
    },
    "papermill": {
     "duration": 0.028076,
     "end_time": "2022-02-16T08:16:12.725991",
     "exception": false,
     "start_time": "2022-02-16T08:16:12.697915",
     "status": "completed"
    },
    "tags": []
   },
   "outputs": [],
   "source": [
    "# Feedfoward neural network\n",
    "class Func_1_Model1(nn.Module):\n",
    "    def __init__(self, in_size, dense_size_1, dense_size_2, dense_size_3, \n",
    "                 dense_size_4, dense_size_5):\n",
    "        super().__init__()\n",
    "        # input layer\n",
    "        self.in_layer = nn.Linear(in_size, in_size)\n",
    "        # dense layer 1\n",
    "        self.dense1 = nn.Linear(in_size, dense_size_1)\n",
    "        # dense layer 2\n",
    "        self.dense2 = nn.Linear(dense_size_1, dense_size_2)\n",
    "        # dense layer 3\n",
    "        self.dense3 = nn.Linear(dense_size_2, dense_size_3)\n",
    "        # dense layer 4\n",
    "        self.dense4 = nn.Linear(dense_size_3, dense_size_4)\n",
    "        # dense layer 5\n",
    "        self.dense5 = nn.Linear(dense_size_4, dense_size_5)\n",
    "        \n",
    "    def forward(self, input_data):\n",
    "        input_data = input_data.view(input_data.size(0), -1)\n",
    "        \n",
    "        # outputs using input layer\n",
    "        out = self.in_layer(input_data)\n",
    "        # activation function for input layer\n",
    "        out = F.leaky_relu(out)\n",
    "        \n",
    "        # outputs using dense layer 1\n",
    "        out = self.dense1(out)\n",
    "        # activation function for dense layer 1\n",
    "        out = F.leaky_relu(out)\n",
    "        \n",
    "        # outputs using dense layer 2\n",
    "        out = self.dense2(out)\n",
    "        # activation function for dense layer 2\n",
    "        out = F.leaky_relu(out)\n",
    "        \n",
    "        # outputs using dense layer 3\n",
    "        out = self.dense3(out)\n",
    "        # activation function for dense layer 3\n",
    "        out = F.leaky_relu(out)\n",
    "        \n",
    "        # outputs using dense layer 4\n",
    "        out = self.dense4(out)\n",
    "        # activation function for dense layer 4\n",
    "        out = F.leaky_relu(out)\n",
    "       \n",
    "        # predictions using dense layer 5\n",
    "        out = self.dense5(out)\n",
    "        return out\n",
    " \n",
    "    def train(self, batch):\n",
    "        x, y = batch \n",
    "        y = y.view(y.size(0), -1)\n",
    "        out = self(x)                  # Generate predictions\n",
    "        loss = F.mse_loss(out, y)      # Calculate loss\n",
    "        return loss\n",
    "    \n",
    "    def validate(self, batch):\n",
    "        x, y = batch \n",
    "        y = y.view(y.size(0), -1)\n",
    "        out = self(x)                    # Generate predictions\n",
    "        loss = F.mse_loss(out, y)        # Calculate loss\n",
    "        return {'val_loss': loss}\n",
    "        \n",
    "    def validation_end(self, outputs):\n",
    "        batch_losses = [x['val_loss'] for x in outputs]\n",
    "        epoch_loss = torch.stack(batch_losses).mean()   # Combine losses\n",
    "        return {'val_loss': epoch_loss.item()}\n",
    "    \n",
    "    def epoch_end(self, epoch, result):\n",
    "        print(\"Epoch [{}], val_loss: {:.4f}\".format(epoch, result['val_loss']))"
   ]
  },
  {
   "cell_type": "code",
   "execution_count": 3,
   "id": "6d7ca880",
   "metadata": {
    "execution": {
     "iopub.execute_input": "2022-02-16T08:16:12.754261Z",
     "iopub.status.busy": "2022-02-16T08:16:12.753350Z",
     "iopub.status.idle": "2022-02-16T08:16:12.759675Z",
     "shell.execute_reply": "2022-02-16T08:16:12.760112Z"
    },
    "papermill": {
     "duration": 0.022021,
     "end_time": "2022-02-16T08:16:12.760292",
     "exception": false,
     "start_time": "2022-02-16T08:16:12.738271",
     "status": "completed"
    },
    "tags": []
   },
   "outputs": [],
   "source": [
    "def count_parameters(model):\n",
    "    return sum(p.numel() for p in model.parameters() if p.requires_grad)\n",
    "\n",
    "def get_default_device():\n",
    "    \"\"\"Pick GPU if available, else CPU\"\"\"\n",
    "    if torch.cuda.is_available():\n",
    "        return torch.device('cuda')\n",
    "    else:\n",
    "        return torch.device('cpu')\n",
    "    \n",
    "def to_device(data, device):\n",
    "    \"\"\"Move tensor(s) to chosen device\"\"\"\n",
    "    if isinstance(data, (list,tuple)):\n",
    "        return [to_device(x, device) for x in data]\n",
    "    return data.to(device, non_blocking=True)"
   ]
  },
  {
   "cell_type": "code",
   "execution_count": 4,
   "id": "02692e0c",
   "metadata": {
    "execution": {
     "iopub.execute_input": "2022-02-16T08:16:12.789149Z",
     "iopub.status.busy": "2022-02-16T08:16:12.788209Z",
     "iopub.status.idle": "2022-02-16T08:16:12.793441Z",
     "shell.execute_reply": "2022-02-16T08:16:12.793883Z"
    },
    "papermill": {
     "duration": 0.021239,
     "end_time": "2022-02-16T08:16:12.794056",
     "exception": false,
     "start_time": "2022-02-16T08:16:12.772817",
     "status": "completed"
    },
    "tags": []
   },
   "outputs": [],
   "source": [
    "class DeviceDataLoader():\n",
    "    \"\"\"Wrap a dataloader to move data to a device\"\"\"\n",
    "    def __init__(self, dl, device):\n",
    "        self.dl = dl\n",
    "        self.device = device\n",
    "        \n",
    "    def __iter__(self):\n",
    "        \"\"\"Yield a batch of data after moving it to device\"\"\"\n",
    "        for b in self.dl: \n",
    "            yield to_device(b, self.device)\n",
    "\n",
    "    def __len__(self):\n",
    "        \"\"\"Number of batches\"\"\"\n",
    "        return len(self.dl)"
   ]
  },
  {
   "cell_type": "code",
   "execution_count": 5,
   "id": "aa62cf9b",
   "metadata": {
    "execution": {
     "iopub.execute_input": "2022-02-16T08:16:12.822935Z",
     "iopub.status.busy": "2022-02-16T08:16:12.822018Z",
     "iopub.status.idle": "2022-02-16T08:16:12.828285Z",
     "shell.execute_reply": "2022-02-16T08:16:12.828858Z"
    },
    "papermill": {
     "duration": 0.022175,
     "end_time": "2022-02-16T08:16:12.829028",
     "exception": false,
     "start_time": "2022-02-16T08:16:12.806853",
     "status": "completed"
    },
    "tags": []
   },
   "outputs": [],
   "source": [
    "def evaluate(model, val_dl):\n",
    "    outputs = [model.validate(batch) for batch in val_dl]\n",
    "    return model.validation_end(outputs)\n",
    "\n",
    "def fit(epochs, lr, model, train_dl, val_dl, opt_func=torch.optim.SGD):\n",
    "    history = []\n",
    "    optimizer = opt_func(model.parameters(), lr)\n",
    "    for epoch in range(epochs):\n",
    "        # Training Phase \n",
    "        for batch in train_dl:\n",
    "            loss = model.train(batch)\n",
    "            loss.backward()\n",
    "            optimizer.step()\n",
    "            optimizer.zero_grad()\n",
    "        # Validation phase\n",
    "        result = evaluate(model, val_dl)\n",
    "        model.epoch_end(epoch, result)\n",
    "        history.append(result)\n",
    "    return history"
   ]
  },
  {
   "cell_type": "code",
   "execution_count": 6,
   "id": "670fbf29",
   "metadata": {
    "execution": {
     "iopub.execute_input": "2022-02-16T08:16:12.860634Z",
     "iopub.status.busy": "2022-02-16T08:16:12.860038Z",
     "iopub.status.idle": "2022-02-16T08:16:13.074818Z",
     "shell.execute_reply": "2022-02-16T08:16:13.075294Z"
    },
    "papermill": {
     "duration": 0.233939,
     "end_time": "2022-02-16T08:16:13.075458",
     "exception": false,
     "start_time": "2022-02-16T08:16:12.841519",
     "status": "completed"
    },
    "tags": []
   },
   "outputs": [
    {
     "data": {
      "image/png": "[encoded data removed]",
      "text/plain": [
       "<Figure size 432x288 with 1 Axes>"
      ]
     },
     "metadata": {},
     "output_type": "display_data"
    }
   ],
   "source": [
    "inputs = np.array([x/7001 for x in range(1,7001)], dtype='double')\n",
    "array1 = np.sin(5*np.pi*inputs)\n",
    "array2 = np.array(5*np.pi*inputs)\n",
    "targets = np.array(array1/array2, dtype='double')\n",
    "\n",
    "plt.plot(inputs,targets)\n",
    "plt.xlabel('x')\n",
    "plt.ylabel('sin(5*pi*x)/(5*pi*x)')\n",
    "plt.show()"
   ]
  },
  {
   "cell_type": "code",
   "execution_count": 7,
   "id": "506fca32",
   "metadata": {
    "execution": {
     "iopub.execute_input": "2022-02-16T08:16:13.113788Z",
     "iopub.status.busy": "2022-02-16T08:16:13.112938Z",
     "iopub.status.idle": "2022-02-16T08:16:13.115226Z",
     "shell.execute_reply": "2022-02-16T08:16:13.115668Z"
    },
    "papermill": {
     "duration": 0.026113,
     "end_time": "2022-02-16T08:16:13.115852",
     "exception": false,
     "start_time": "2022-02-16T08:16:13.089739",
     "status": "completed"
    },
    "tags": []
   },
   "outputs": [],
   "source": [
    "# Convert inputs and targets to tensors\n",
    "inputs = torch.from_numpy(inputs)\n",
    "targets = torch.from_numpy(targets)\n",
    "\n",
    "# Define dataset\n",
    "AllData = TensorDataset(inputs, targets)"
   ]
  },
  {
   "cell_type": "code",
   "execution_count": 8,
   "id": "b7396bca",
   "metadata": {
    "execution": {
     "iopub.execute_input": "2022-02-16T08:16:13.153097Z",
     "iopub.status.busy": "2022-02-16T08:16:13.152430Z",
     "iopub.status.idle": "2022-02-16T08:16:13.172900Z",
     "shell.execute_reply": "2022-02-16T08:16:13.173500Z"
    },
    "papermill": {
     "duration": 0.042935,
     "end_time": "2022-02-16T08:16:13.173698",
     "exception": false,
     "start_time": "2022-02-16T08:16:13.130763",
     "status": "completed"
    },
    "tags": []
   },
   "outputs": [
    {
     "data": {
      "text/plain": [
       "(5000, 1000, 1000)"
      ]
     },
     "execution_count": 8,
     "metadata": {},
     "output_type": "execute_result"
    }
   ],
   "source": [
    "# Separate datasets for training, validation, and testing\n",
    "val_size = 1000\n",
    "test_size = 1000\n",
    "train_size = len(AllData) - val_size - test_size\n",
    "\n",
    "train_ds, val_ds, test_ds = random_split(AllData, [train_size, val_size, test_size])\n",
    "\n",
    "# Print length of the datasets\n",
    "len(train_ds), len(val_ds), len(test_ds)"
   ]
  },
  {
   "cell_type": "code",
   "execution_count": 9,
   "id": "54ff041e",
   "metadata": {
    "execution": {
     "iopub.execute_input": "2022-02-16T08:16:13.207775Z",
     "iopub.status.busy": "2022-02-16T08:16:13.205271Z",
     "iopub.status.idle": "2022-02-16T08:16:13.209634Z",
     "shell.execute_reply": "2022-02-16T08:16:13.210108Z"
    },
    "papermill": {
     "duration": 0.022326,
     "end_time": "2022-02-16T08:16:13.210375",
     "exception": false,
     "start_time": "2022-02-16T08:16:13.188049",
     "status": "completed"
    },
    "tags": []
   },
   "outputs": [],
   "source": [
    "batch_size = 500\n",
    "\n",
    "train_dl = DataLoader(train_ds, batch_size, shuffle=True, num_workers=1, pin_memory=True)\n",
    "val_dl = DataLoader(val_ds, batch_size, num_workers=1, pin_memory=True)"
   ]
  },
  {
   "cell_type": "code",
   "execution_count": 10,
   "id": "be35e804",
   "metadata": {
    "execution": {
     "iopub.execute_input": "2022-02-16T08:16:13.247025Z",
     "iopub.status.busy": "2022-02-16T08:16:13.246388Z",
     "iopub.status.idle": "2022-02-16T08:16:13.382947Z",
     "shell.execute_reply": "2022-02-16T08:16:13.383379Z"
    },
    "papermill": {
     "duration": 0.158951,
     "end_time": "2022-02-16T08:16:13.383587",
     "exception": false,
     "start_time": "2022-02-16T08:16:13.224636",
     "status": "completed"
    },
    "tags": []
   },
   "outputs": [
    {
     "name": "stdout",
     "output_type": "stream",
     "text": [
      "x.shape: torch.Size([500])\n",
      "y.shape: torch.Size([500])\n"
     ]
    }
   ],
   "source": [
    "for x, _ in train_dl:\n",
    "    print('x.shape:', x.shape)\n",
    "    break\n",
    "    \n",
    "for y, _ in val_dl:\n",
    "    print('y.shape:', y.shape)\n",
    "    break "
   ]
  },
  {
   "cell_type": "code",
   "execution_count": 11,
   "id": "ef152254",
   "metadata": {
    "execution": {
     "iopub.execute_input": "2022-02-16T08:16:13.419749Z",
     "iopub.status.busy": "2022-02-16T08:16:13.419109Z",
     "iopub.status.idle": "2022-02-16T08:16:13.421757Z",
     "shell.execute_reply": "2022-02-16T08:16:13.422422Z"
    },
    "papermill": {
     "duration": 0.02375,
     "end_time": "2022-02-16T08:16:13.422629",
     "exception": false,
     "start_time": "2022-02-16T08:16:13.398879",
     "status": "completed"
    },
    "tags": []
   },
   "outputs": [],
   "source": [
    "# Define NN layer sizes\n",
    "input_size = 1\n",
    "dense_size_1 = 10\n",
    "dense_size_2 = 18\n",
    "dense_size_3 = 15\n",
    "dense_size_4 = 4\n",
    "dense_size_5 = 1"
   ]
  },
  {
   "cell_type": "code",
   "execution_count": 12,
   "id": "747d1eaa",
   "metadata": {
    "execution": {
     "iopub.execute_input": "2022-02-16T08:16:13.460473Z",
     "iopub.status.busy": "2022-02-16T08:16:13.459787Z",
     "iopub.status.idle": "2022-02-16T08:16:13.475681Z",
     "shell.execute_reply": "2022-02-16T08:16:13.475106Z"
    },
    "papermill": {
     "duration": 0.03772,
     "end_time": "2022-02-16T08:16:13.475820",
     "exception": false,
     "start_time": "2022-02-16T08:16:13.438100",
     "status": "completed"
    },
    "tags": []
   },
   "outputs": [
    {
     "data": {
      "text/plain": [
       "574"
      ]
     },
     "execution_count": 12,
     "metadata": {},
     "output_type": "execute_result"
    }
   ],
   "source": [
    "# Define NN model1\n",
    "model1 = Func_1_Model1(input_size, dense_size_1, dense_size_2, dense_size_3,\n",
    "                 dense_size_4, dense_size_5).double()\n",
    "\n",
    "count_parameters(model1)"
   ]
  },
  {
   "cell_type": "code",
   "execution_count": 13,
   "id": "ebd0ffd4",
   "metadata": {
    "execution": {
     "iopub.execute_input": "2022-02-16T08:16:13.512447Z",
     "iopub.status.busy": "2022-02-16T08:16:13.511880Z",
     "iopub.status.idle": "2022-02-16T08:16:13.515689Z",
     "shell.execute_reply": "2022-02-16T08:16:13.515165Z"
    },
    "papermill": {
     "duration": 0.024346,
     "end_time": "2022-02-16T08:16:13.515826",
     "exception": false,
     "start_time": "2022-02-16T08:16:13.491480",
     "status": "completed"
    },
    "tags": []
   },
   "outputs": [
    {
     "data": {
      "text/plain": [
       "device(type='cpu')"
      ]
     },
     "execution_count": 13,
     "metadata": {},
     "output_type": "execute_result"
    }
   ],
   "source": [
    "device = get_default_device()\n",
    "device"
   ]
  },
  {
   "cell_type": "code",
   "execution_count": 14,
   "id": "6057e8ec",
   "metadata": {
    "execution": {
     "iopub.execute_input": "2022-02-16T08:16:13.556833Z",
     "iopub.status.busy": "2022-02-16T08:16:13.556254Z",
     "iopub.status.idle": "2022-02-16T08:16:13.560698Z",
     "shell.execute_reply": "2022-02-16T08:16:13.560068Z"
    },
    "papermill": {
     "duration": 0.027907,
     "end_time": "2022-02-16T08:16:13.560833",
     "exception": false,
     "start_time": "2022-02-16T08:16:13.532926",
     "status": "completed"
    },
    "tags": []
   },
   "outputs": [
    {
     "data": {
      "text/plain": [
       "Func_1_Model1(\n",
       "  (in_layer): Linear(in_features=1, out_features=1, bias=True)\n",
       "  (dense1): Linear(in_features=1, out_features=10, bias=True)\n",
       "  (dense2): Linear(in_features=10, out_features=18, bias=True)\n",
       "  (dense3): Linear(in_features=18, out_features=15, bias=True)\n",
       "  (dense4): Linear(in_features=15, out_features=4, bias=True)\n",
       "  (dense5): Linear(in_features=4, out_features=1, bias=True)\n",
       ")"
      ]
     },
     "execution_count": 14,
     "metadata": {},
     "output_type": "execute_result"
    }
   ],
   "source": [
    "# Transfer dataset & model to GPU\n",
    "train_dl = DeviceDataLoader(train_dl, device)\n",
    "val_dl = DeviceDataLoader(val_dl, device)\n",
    "to_device(model1, device)"
   ]
  },
  {
   "cell_type": "code",
   "execution_count": 15,
   "id": "dc702fb2",
   "metadata": {
    "execution": {
     "iopub.execute_input": "2022-02-16T08:16:13.600961Z",
     "iopub.status.busy": "2022-02-16T08:16:13.600333Z",
     "iopub.status.idle": "2022-02-16T08:16:13.690777Z",
     "shell.execute_reply": "2022-02-16T08:16:13.690234Z"
    },
    "papermill": {
     "duration": 0.112821,
     "end_time": "2022-02-16T08:16:13.690927",
     "exception": false,
     "start_time": "2022-02-16T08:16:13.578106",
     "status": "completed"
    },
    "tags": []
   },
   "outputs": [
    {
     "data": {
      "text/plain": [
       "[{'val_loss': 0.09966964921995629}]"
      ]
     },
     "execution_count": 15,
     "metadata": {},
     "output_type": "execute_result"
    }
   ],
   "source": [
    "history = [evaluate(model1, val_dl)]\n",
    "history"
   ]
  },
  {
   "cell_type": "code",
   "execution_count": 16,
   "id": "becf449b",
   "metadata": {
    "execution": {
     "iopub.execute_input": "2022-02-16T08:16:13.733968Z",
     "iopub.status.busy": "2022-02-16T08:16:13.733311Z",
     "iopub.status.idle": "2022-02-16T08:16:16.449473Z",
     "shell.execute_reply": "2022-02-16T08:16:16.448880Z"
    },
    "papermill": {
     "duration": 2.739891,
     "end_time": "2022-02-16T08:16:16.449658",
     "exception": false,
     "start_time": "2022-02-16T08:16:13.709767",
     "status": "completed"
    },
    "tags": []
   },
   "outputs": [
    {
     "name": "stdout",
     "output_type": "stream",
     "text": [
      "Epoch [0], val_loss: 0.0992\n",
      "Epoch [1], val_loss: 0.0987\n",
      "Epoch [2], val_loss: 0.0982\n",
      "Epoch [3], val_loss: 0.0978\n",
      "Epoch [4], val_loss: 0.0974\n",
      "Epoch [5], val_loss: 0.0969\n",
      "Epoch [6], val_loss: 0.0965\n",
      "Epoch [7], val_loss: 0.0962\n",
      "Epoch [8], val_loss: 0.0958\n",
      "Epoch [9], val_loss: 0.0954\n",
      "Epoch [10], val_loss: 0.0951\n",
      "Epoch [11], val_loss: 0.0948\n",
      "Epoch [12], val_loss: 0.0945\n",
      "Epoch [13], val_loss: 0.0942\n",
      "Epoch [14], val_loss: 0.0939\n",
      "Epoch [15], val_loss: 0.0936\n",
      "Epoch [16], val_loss: 0.0933\n",
      "Epoch [17], val_loss: 0.0931\n",
      "Epoch [18], val_loss: 0.0928\n",
      "Epoch [19], val_loss: 0.0926\n"
     ]
    }
   ],
   "source": [
    "history += fit(20, 0.001, model1, train_dl, val_dl)"
   ]
  },
  {
   "cell_type": "code",
   "execution_count": 17,
   "id": "b0b648c0",
   "metadata": {
    "execution": {
     "iopub.execute_input": "2022-02-16T08:16:16.516046Z",
     "iopub.status.busy": "2022-02-16T08:16:16.515411Z",
     "iopub.status.idle": "2022-02-16T08:16:16.719948Z",
     "shell.execute_reply": "2022-02-16T08:16:16.719412Z"
    },
    "papermill": {
     "duration": 0.247863,
     "end_time": "2022-02-16T08:16:16.720104",
     "exception": false,
     "start_time": "2022-02-16T08:16:16.472241",
     "status": "completed"
    },
    "tags": []
   },
   "outputs": [
    {
     "data": {
      "image/png": "[encoded data removed]",
      "text/plain": [
       "<Figure size 432x288 with 1 Axes>"
      ]
     },
     "metadata": {},
     "output_type": "display_data"
    }
   ],
   "source": [
    "losses = [x['val_loss'] for x in history]\n",
    "plt.plot(losses, '-x')\n",
    "plt.xlabel('epoch')\n",
    "plt.ylabel('loss')\n",
    "plt.title('Loss vs. No. of epochs');"
   ]
  },
  {
   "cell_type": "code",
   "execution_count": 18,
   "id": "5549aa52",
   "metadata": {
    "execution": {
     "iopub.execute_input": "2022-02-16T08:16:16.771785Z",
     "iopub.status.busy": "2022-02-16T08:16:16.770890Z",
     "iopub.status.idle": "2022-02-16T08:16:16.773470Z",
     "shell.execute_reply": "2022-02-16T08:16:16.773024Z"
    },
    "papermill": {
     "duration": 0.029962,
     "end_time": "2022-02-16T08:16:16.773636",
     "exception": false,
     "start_time": "2022-02-16T08:16:16.743674",
     "status": "completed"
    },
    "tags": []
   },
   "outputs": [],
   "source": [
    "# Save model and losses\n",
    "#torch.save(model1.state_dict(), 'HW_1_1_func1model1_v1.pth')\n",
    "#pd.DataFrame(losses).to_csv('HW_1_1_func1model1_v1_losses.csv',index=False)"
   ]
  }
 ],
 "metadata": {
  "kernelspec": {
   "display_name": "Python 3",
   "language": "python",
   "name": "python3"
  },
  "language_info": {
   "codemirror_mode": {
    "name": "ipython",
    "version": 3
   },
   "file_extension": ".py",
   "mimetype": "text/x-python",
   "name": "python",
   "nbconvert_exporter": "python",
   "pygments_lexer": "ipython3",
   "version": "3.7.12"
  },
  "papermill": {
   "default_parameters": {},
   "duration": 15.917915,
   "end_time": "2022-02-16T08:16:17.608271",
   "environment_variables": {},
   "exception": null,
   "input_path": "__notebook__.ipynb",
   "output_path": "__notebook__.ipynb",
   "parameters": {},
   "start_time": "2022-02-16T08:16:01.690356",
   "version": "2.3.3"
  }
 },
 "nbformat": 4,
 "nbformat_minor": 5
}
