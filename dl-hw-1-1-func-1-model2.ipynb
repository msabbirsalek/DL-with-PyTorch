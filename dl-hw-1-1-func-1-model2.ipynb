{
 "cells": [
  {
   "cell_type": "code",
   "execution_count": 1,
   "id": "e2912785",
   "metadata": {
    "_cell_guid": "b1076dfc-b9ad-4769-8c92-a6c4dae69d19",
    "_uuid": "8f2839f25d086af736a60e9eeb907d3b93b6e0e5",
    "execution": {
     "iopub.execute_input": "2022-02-16T08:36:11.496691Z",
     "iopub.status.busy": "2022-02-16T08:36:11.494784Z",
     "iopub.status.idle": "2022-02-16T08:36:12.857349Z",
     "shell.execute_reply": "2022-02-16T08:36:12.856442Z",
     "shell.execute_reply.started": "2022-02-16T08:35:19.169765Z"
    },
    "papermill": {
     "duration": 1.388411,
     "end_time": "2022-02-16T08:36:12.857573",
     "exception": false,
     "start_time": "2022-02-16T08:36:11.469162",
     "status": "completed"
    },
    "tags": []
   },
   "outputs": [],
   "source": [
    "# Import Libraries\n",
    "import torch\n",
    "import numpy as np\n",
    "import matplotlib\n",
    "import matplotlib.pyplot as plt\n",
    "import pandas as pd\n",
    "import torch.nn as nn\n",
    "import torch.nn.functional as F\n",
    "from torch.utils.data import TensorDataset\n",
    "from torch.utils.data.dataloader import DataLoader\n",
    "from torch.utils.data import random_split\n",
    "%matplotlib inline\n",
    "matplotlib.rcParams['figure.facecolor'] = '#ffffff'   # Background_color = white (fot matplotlib figures)"
   ]
  },
  {
   "cell_type": "code",
   "execution_count": 2,
   "id": "f9c336dd",
   "metadata": {
    "execution": {
     "iopub.execute_input": "2022-02-16T08:36:12.901891Z",
     "iopub.status.busy": "2022-02-16T08:36:12.900681Z",
     "iopub.status.idle": "2022-02-16T08:36:12.913773Z",
     "shell.execute_reply": "2022-02-16T08:36:12.914337Z",
     "shell.execute_reply.started": "2022-02-16T08:35:19.181879Z"
    },
    "papermill": {
     "duration": 0.03714,
     "end_time": "2022-02-16T08:36:12.914570",
     "exception": false,
     "start_time": "2022-02-16T08:36:12.877430",
     "status": "completed"
    },
    "tags": []
   },
   "outputs": [],
   "source": [
    "# Feedfoward neural network\n",
    "class Func_1_Model2(nn.Module):\n",
    "    def __init__(self, in_size, dense_size_1, dense_size_2):\n",
    "        super().__init__()\n",
    "        # input layer\n",
    "        self.in_layer = nn.Linear(in_size, in_size)\n",
    "        # dense layer 1\n",
    "        self.dense1 = nn.Linear(in_size, dense_size_1)\n",
    "        # dense layer 2\n",
    "        self.dense2 = nn.Linear(dense_size_1, dense_size_2)\n",
    "        \n",
    "    def forward(self, input_data):\n",
    "        input_data = input_data.view(input_data.size(0), -1)\n",
    "        \n",
    "        # outputs using input layer\n",
    "        out = self.in_layer(input_data)\n",
    "        # activation function for input layer\n",
    "        out = F.leaky_relu(out)\n",
    "        \n",
    "        # outputs using dense layer 1\n",
    "        out = self.dense1(out)\n",
    "        # activation function for dense layer 1\n",
    "        out = F.leaky_relu(out)\n",
    "       \n",
    "        # predictions using dense layer 2\n",
    "        out = self.dense2(out)\n",
    "        return out\n",
    " \n",
    "    def train(self, batch):\n",
    "        x, y = batch \n",
    "        y = y.view(y.size(0), -1)\n",
    "        out = self(x)                  # Generate predictions\n",
    "        loss = F.mse_loss(out, y)      # Calculate loss\n",
    "        return loss\n",
    "    \n",
    "    def validate(self, batch):\n",
    "        x, y = batch \n",
    "        y = y.view(y.size(0), -1)\n",
    "        out = self(x)                    # Generate predictions\n",
    "        loss = F.mse_loss(out, y)        # Calculate loss\n",
    "        return {'val_loss': loss}\n",
    "        \n",
    "    def validation_end(self, outputs):\n",
    "        batch_losses = [x['val_loss'] for x in outputs]\n",
    "        epoch_loss = torch.stack(batch_losses).mean()   # Combine losses\n",
    "        return {'val_loss': epoch_loss.item()}\n",
    "    \n",
    "    def epoch_end(self, epoch, result):\n",
    "        print(\"Epoch [{}], val_loss: {:.4f}\".format(epoch, result['val_loss']))"
   ]
  },
  {
   "cell_type": "code",
   "execution_count": 3,
   "id": "78ec1b02",
   "metadata": {
    "execution": {
     "iopub.execute_input": "2022-02-16T08:36:12.958037Z",
     "iopub.status.busy": "2022-02-16T08:36:12.956995Z",
     "iopub.status.idle": "2022-02-16T08:36:12.964093Z",
     "shell.execute_reply": "2022-02-16T08:36:12.964536Z",
     "shell.execute_reply.started": "2022-02-16T08:35:19.198193Z"
    },
    "papermill": {
     "duration": 0.030547,
     "end_time": "2022-02-16T08:36:12.964744",
     "exception": false,
     "start_time": "2022-02-16T08:36:12.934197",
     "status": "completed"
    },
    "tags": []
   },
   "outputs": [],
   "source": [
    "def count_parameters(model):\n",
    "    return sum(p.numel() for p in model.parameters() if p.requires_grad)\n",
    "\n",
    "def get_default_device():\n",
    "    \"\"\"Pick GPU if available, else CPU\"\"\"\n",
    "    if torch.cuda.is_available():\n",
    "        return torch.device('cuda')\n",
    "    else:\n",
    "        return torch.device('cpu')\n",
    "    \n",
    "def to_device(data, device):\n",
    "    \"\"\"Move tensor(s) to chosen device\"\"\"\n",
    "    if isinstance(data, (list,tuple)):\n",
    "        return [to_device(x, device) for x in data]\n",
    "    return data.to(device, non_blocking=True)"
   ]
  },
  {
   "cell_type": "code",
   "execution_count": 4,
   "id": "e5288d9c",
   "metadata": {
    "execution": {
     "iopub.execute_input": "2022-02-16T08:36:13.007678Z",
     "iopub.status.busy": "2022-02-16T08:36:13.006710Z",
     "iopub.status.idle": "2022-02-16T08:36:13.012479Z",
     "shell.execute_reply": "2022-02-16T08:36:13.012993Z",
     "shell.execute_reply.started": "2022-02-16T08:35:19.222050Z"
    },
    "papermill": {
     "duration": 0.029168,
     "end_time": "2022-02-16T08:36:13.013181",
     "exception": false,
     "start_time": "2022-02-16T08:36:12.984013",
     "status": "completed"
    },
    "tags": []
   },
   "outputs": [],
   "source": [
    "class DeviceDataLoader():\n",
    "    \"\"\"Wrap a dataloader to move data to a device\"\"\"\n",
    "    def __init__(self, dl, device):\n",
    "        self.dl = dl\n",
    "        self.device = device\n",
    "        \n",
    "    def __iter__(self):\n",
    "        \"\"\"Yield a batch of data after moving it to device\"\"\"\n",
    "        for b in self.dl: \n",
    "            yield to_device(b, self.device)\n",
    "\n",
    "    def __len__(self):\n",
    "        \"\"\"Number of batches\"\"\"\n",
    "        return len(self.dl)"
   ]
  },
  {
   "cell_type": "code",
   "execution_count": 5,
   "id": "69e7e704",
   "metadata": {
    "execution": {
     "iopub.execute_input": "2022-02-16T08:36:13.056400Z",
     "iopub.status.busy": "2022-02-16T08:36:13.055445Z",
     "iopub.status.idle": "2022-02-16T08:36:13.062868Z",
     "shell.execute_reply": "2022-02-16T08:36:13.063353Z",
     "shell.execute_reply.started": "2022-02-16T08:35:19.240860Z"
    },
    "papermill": {
     "duration": 0.031284,
     "end_time": "2022-02-16T08:36:13.063540",
     "exception": false,
     "start_time": "2022-02-16T08:36:13.032256",
     "status": "completed"
    },
    "tags": []
   },
   "outputs": [],
   "source": [
    "def evaluate(model, val_dl):\n",
    "    outputs = [model.validate(batch) for batch in val_dl]\n",
    "    return model.validation_end(outputs)\n",
    "\n",
    "def fit(epochs, lr, model, train_dl, val_dl, opt_func=torch.optim.SGD):\n",
    "    history = []\n",
    "    optimizer = opt_func(model.parameters(), lr)\n",
    "    for epoch in range(epochs):\n",
    "        # Training Phase \n",
    "        for batch in train_dl:\n",
    "            loss = model.train(batch)\n",
    "            loss.backward()\n",
    "            optimizer.step()\n",
    "            optimizer.zero_grad()\n",
    "        # Validation phase\n",
    "        result = evaluate(model, val_dl)\n",
    "        model.epoch_end(epoch, result)\n",
    "        history.append(result)\n",
    "    return history"
   ]
  },
  {
   "cell_type": "code",
   "execution_count": 6,
   "id": "1d721ddd",
   "metadata": {
    "execution": {
     "iopub.execute_input": "2022-02-16T08:36:13.106623Z",
     "iopub.status.busy": "2022-02-16T08:36:13.105647Z",
     "iopub.status.idle": "2022-02-16T08:36:13.317168Z",
     "shell.execute_reply": "2022-02-16T08:36:13.317667Z",
     "shell.execute_reply.started": "2022-02-16T08:35:19.257424Z"
    },
    "papermill": {
     "duration": 0.23482,
     "end_time": "2022-02-16T08:36:13.317871",
     "exception": false,
     "start_time": "2022-02-16T08:36:13.083051",
     "status": "completed"
    },
    "tags": []
   },
   "outputs": [
    {
     "data": {
      "image/png": "[encoded data removed]",
      "text/plain": [
       "<Figure size 432x288 with 1 Axes>"
      ]
     },
     "metadata": {},
     "output_type": "display_data"
    }
   ],
   "source": [
    "inputs = np.array([x/7001 for x in range(1,7001)], dtype='double')\n",
    "array1 = np.sin(5*np.pi*inputs)\n",
    "array2 = np.array(5*np.pi*inputs)\n",
    "targets = np.array(array1/array2, dtype='double')\n",
    "\n",
    "plt.plot(inputs,targets)\n",
    "plt.xlabel('x')\n",
    "plt.ylabel('sin(5*pi*x)/(5*pi*x)')\n",
    "plt.show()"
   ]
  },
  {
   "cell_type": "code",
   "execution_count": 7,
   "id": "635145bf",
   "metadata": {
    "execution": {
     "iopub.execute_input": "2022-02-16T08:36:13.363150Z",
     "iopub.status.busy": "2022-02-16T08:36:13.362396Z",
     "iopub.status.idle": "2022-02-16T08:36:13.371265Z",
     "shell.execute_reply": "2022-02-16T08:36:13.371743Z",
     "shell.execute_reply.started": "2022-02-16T08:35:19.454875Z"
    },
    "papermill": {
     "duration": 0.03307,
     "end_time": "2022-02-16T08:36:13.371963",
     "exception": false,
     "start_time": "2022-02-16T08:36:13.338893",
     "status": "completed"
    },
    "tags": []
   },
   "outputs": [],
   "source": [
    "# Convert inputs and targets to tensors\n",
    "inputs = torch.from_numpy(inputs)\n",
    "targets = torch.from_numpy(targets)\n",
    "\n",
    "# Define dataset\n",
    "AllData = TensorDataset(inputs, targets)"
   ]
  },
  {
   "cell_type": "code",
   "execution_count": 8,
   "id": "12f74f3d",
   "metadata": {
    "execution": {
     "iopub.execute_input": "2022-02-16T08:36:13.421070Z",
     "iopub.status.busy": "2022-02-16T08:36:13.420375Z",
     "iopub.status.idle": "2022-02-16T08:36:13.440617Z",
     "shell.execute_reply": "2022-02-16T08:36:13.441338Z",
     "shell.execute_reply.started": "2022-02-16T08:35:19.461759Z"
    },
    "papermill": {
     "duration": 0.049032,
     "end_time": "2022-02-16T08:36:13.441528",
     "exception": false,
     "start_time": "2022-02-16T08:36:13.392496",
     "status": "completed"
    },
    "tags": []
   },
   "outputs": [
    {
     "data": {
      "text/plain": [
       "(5000, 1000, 1000)"
      ]
     },
     "execution_count": 8,
     "metadata": {},
     "output_type": "execute_result"
    }
   ],
   "source": [
    "# Separate datasets for training, validation, and testing\n",
    "val_size = 1000\n",
    "test_size = 1000\n",
    "train_size = len(AllData) - val_size - test_size\n",
    "\n",
    "train_ds, val_ds, test_ds = random_split(AllData, [train_size, val_size, test_size])\n",
    "\n",
    "# Print length of the datasets\n",
    "len(train_ds), len(val_ds), len(test_ds)"
   ]
  },
  {
   "cell_type": "code",
   "execution_count": 9,
   "id": "cc2ccd60",
   "metadata": {
    "execution": {
     "iopub.execute_input": "2022-02-16T08:36:13.487033Z",
     "iopub.status.busy": "2022-02-16T08:36:13.486332Z",
     "iopub.status.idle": "2022-02-16T08:36:13.490801Z",
     "shell.execute_reply": "2022-02-16T08:36:13.491309Z",
     "shell.execute_reply.started": "2022-02-16T08:35:19.496406Z"
    },
    "papermill": {
     "duration": 0.02857,
     "end_time": "2022-02-16T08:36:13.491491",
     "exception": false,
     "start_time": "2022-02-16T08:36:13.462921",
     "status": "completed"
    },
    "tags": []
   },
   "outputs": [],
   "source": [
    "batch_size = 500\n",
    "\n",
    "train_dl = DataLoader(train_ds, batch_size, shuffle=True, num_workers=1, pin_memory=True)\n",
    "val_dl = DataLoader(val_ds, batch_size, num_workers=1, pin_memory=True)"
   ]
  },
  {
   "cell_type": "code",
   "execution_count": 10,
   "id": "a45efc44",
   "metadata": {
    "execution": {
     "iopub.execute_input": "2022-02-16T08:36:13.536441Z",
     "iopub.status.busy": "2022-02-16T08:36:13.535761Z",
     "iopub.status.idle": "2022-02-16T08:36:13.694248Z",
     "shell.execute_reply": "2022-02-16T08:36:13.693506Z",
     "shell.execute_reply.started": "2022-02-16T08:35:19.504541Z"
    },
    "papermill": {
     "duration": 0.182063,
     "end_time": "2022-02-16T08:36:13.694427",
     "exception": false,
     "start_time": "2022-02-16T08:36:13.512364",
     "status": "completed"
    },
    "tags": []
   },
   "outputs": [
    {
     "name": "stdout",
     "output_type": "stream",
     "text": [
      "x.shape: torch.Size([500])\n",
      "y.shape: torch.Size([500])\n"
     ]
    }
   ],
   "source": [
    "for x, _ in train_dl:\n",
    "    print('x.shape:', x.shape)\n",
    "    break\n",
    "    \n",
    "for y, _ in val_dl:\n",
    "    print('y.shape:', y.shape)\n",
    "    break "
   ]
  },
  {
   "cell_type": "code",
   "execution_count": 11,
   "id": "0a97bbc5",
   "metadata": {
    "execution": {
     "iopub.execute_input": "2022-02-16T08:36:13.744791Z",
     "iopub.status.busy": "2022-02-16T08:36:13.743889Z",
     "iopub.status.idle": "2022-02-16T08:36:13.746450Z",
     "shell.execute_reply": "2022-02-16T08:36:13.745857Z",
     "shell.execute_reply.started": "2022-02-16T08:35:19.656422Z"
    },
    "papermill": {
     "duration": 0.030452,
     "end_time": "2022-02-16T08:36:13.746600",
     "exception": false,
     "start_time": "2022-02-16T08:36:13.716148",
     "status": "completed"
    },
    "tags": []
   },
   "outputs": [],
   "source": [
    "# Define NN layer sizes\n",
    "input_size = 1\n",
    "dense_size_1 = 190\n",
    "dense_size_2 = 1"
   ]
  },
  {
   "cell_type": "code",
   "execution_count": 12,
   "id": "a32a596c",
   "metadata": {
    "execution": {
     "iopub.execute_input": "2022-02-16T08:36:13.794393Z",
     "iopub.status.busy": "2022-02-16T08:36:13.793358Z",
     "iopub.status.idle": "2022-02-16T08:36:13.810556Z",
     "shell.execute_reply": "2022-02-16T08:36:13.811012Z",
     "shell.execute_reply.started": "2022-02-16T08:35:19.663624Z"
    },
    "papermill": {
     "duration": 0.042887,
     "end_time": "2022-02-16T08:36:13.811199",
     "exception": false,
     "start_time": "2022-02-16T08:36:13.768312",
     "status": "completed"
    },
    "tags": []
   },
   "outputs": [
    {
     "data": {
      "text/plain": [
       "573"
      ]
     },
     "execution_count": 12,
     "metadata": {},
     "output_type": "execute_result"
    }
   ],
   "source": [
    "# Define NN model2\n",
    "model2 = Func_1_Model2(input_size, dense_size_1, dense_size_2).double()\n",
    "\n",
    "count_parameters(model2)"
   ]
  },
  {
   "cell_type": "code",
   "execution_count": 13,
   "id": "df580f7a",
   "metadata": {
    "execution": {
     "iopub.execute_input": "2022-02-16T08:36:13.858334Z",
     "iopub.status.busy": "2022-02-16T08:36:13.857416Z",
     "iopub.status.idle": "2022-02-16T08:36:13.863212Z",
     "shell.execute_reply": "2022-02-16T08:36:13.863714Z",
     "shell.execute_reply.started": "2022-02-16T08:35:19.701852Z"
    },
    "papermill": {
     "duration": 0.031119,
     "end_time": "2022-02-16T08:36:13.863905",
     "exception": false,
     "start_time": "2022-02-16T08:36:13.832786",
     "status": "completed"
    },
    "tags": []
   },
   "outputs": [
    {
     "data": {
      "text/plain": [
       "device(type='cpu')"
      ]
     },
     "execution_count": 13,
     "metadata": {},
     "output_type": "execute_result"
    }
   ],
   "source": [
    "device = get_default_device()\n",
    "device"
   ]
  },
  {
   "cell_type": "code",
   "execution_count": 14,
   "id": "6596fe7d",
   "metadata": {
    "execution": {
     "iopub.execute_input": "2022-02-16T08:36:13.913995Z",
     "iopub.status.busy": "2022-02-16T08:36:13.913028Z",
     "iopub.status.idle": "2022-02-16T08:36:13.919876Z",
     "shell.execute_reply": "2022-02-16T08:36:13.920365Z",
     "shell.execute_reply.started": "2022-02-16T08:35:19.703496Z"
    },
    "papermill": {
     "duration": 0.032578,
     "end_time": "2022-02-16T08:36:13.920542",
     "exception": false,
     "start_time": "2022-02-16T08:36:13.887964",
     "status": "completed"
    },
    "tags": []
   },
   "outputs": [
    {
     "data": {
      "text/plain": [
       "Func_1_Model2(\n",
       "  (in_layer): Linear(in_features=1, out_features=1, bias=True)\n",
       "  (dense1): Linear(in_features=1, out_features=190, bias=True)\n",
       "  (dense2): Linear(in_features=190, out_features=1, bias=True)\n",
       ")"
      ]
     },
     "execution_count": 14,
     "metadata": {},
     "output_type": "execute_result"
    }
   ],
   "source": [
    "# Transfer dataset & model to GPU\n",
    "train_dl = DeviceDataLoader(train_dl, device)\n",
    "val_dl = DeviceDataLoader(val_dl, device)\n",
    "to_device(model2, device)"
   ]
  },
  {
   "cell_type": "code",
   "execution_count": 15,
   "id": "75fdf5fb",
   "metadata": {
    "execution": {
     "iopub.execute_input": "2022-02-16T08:36:13.969981Z",
     "iopub.status.busy": "2022-02-16T08:36:13.969043Z",
     "iopub.status.idle": "2022-02-16T08:36:14.065506Z",
     "shell.execute_reply": "2022-02-16T08:36:14.066027Z",
     "shell.execute_reply.started": "2022-02-16T08:35:19.705286Z"
    },
    "papermill": {
     "duration": 0.12281,
     "end_time": "2022-02-16T08:36:14.066238",
     "exception": false,
     "start_time": "2022-02-16T08:36:13.943428",
     "status": "completed"
    },
    "tags": []
   },
   "outputs": [
    {
     "data": {
      "text/plain": [
       "[{'val_loss': 0.10933294646306221}]"
      ]
     },
     "execution_count": 15,
     "metadata": {},
     "output_type": "execute_result"
    }
   ],
   "source": [
    "history = [evaluate(model2, val_dl)]\n",
    "history"
   ]
  },
  {
   "cell_type": "code",
   "execution_count": 16,
   "id": "a26da3ae",
   "metadata": {
    "execution": {
     "iopub.execute_input": "2022-02-16T08:36:14.117474Z",
     "iopub.status.busy": "2022-02-16T08:36:14.116785Z",
     "iopub.status.idle": "2022-02-16T08:36:17.303285Z",
     "shell.execute_reply": "2022-02-16T08:36:17.303768Z",
     "shell.execute_reply.started": "2022-02-16T08:35:19.706682Z"
    },
    "papermill": {
     "duration": 3.214014,
     "end_time": "2022-02-16T08:36:17.304018",
     "exception": false,
     "start_time": "2022-02-16T08:36:14.090004",
     "status": "completed"
    },
    "tags": []
   },
   "outputs": [
    {
     "name": "stdout",
     "output_type": "stream",
     "text": [
      "Epoch [0], val_loss: 0.1045\n",
      "Epoch [1], val_loss: 0.1020\n",
      "Epoch [2], val_loss: 0.0999\n",
      "Epoch [3], val_loss: 0.0980\n",
      "Epoch [4], val_loss: 0.0962\n",
      "Epoch [5], val_loss: 0.0945\n",
      "Epoch [6], val_loss: 0.0928\n",
      "Epoch [7], val_loss: 0.0913\n",
      "Epoch [8], val_loss: 0.0899\n",
      "Epoch [9], val_loss: 0.0885\n",
      "Epoch [10], val_loss: 0.0872\n",
      "Epoch [11], val_loss: 0.0860\n",
      "Epoch [12], val_loss: 0.0848\n",
      "Epoch [13], val_loss: 0.0837\n",
      "Epoch [14], val_loss: 0.0827\n",
      "Epoch [15], val_loss: 0.0817\n",
      "Epoch [16], val_loss: 0.0808\n",
      "Epoch [17], val_loss: 0.0799\n",
      "Epoch [18], val_loss: 0.0790\n",
      "Epoch [19], val_loss: 0.0783\n"
     ]
    }
   ],
   "source": [
    "history += fit(20, 0.001, model2, train_dl, val_dl)"
   ]
  },
  {
   "cell_type": "code",
   "execution_count": 17,
   "id": "1f07afa6",
   "metadata": {
    "execution": {
     "iopub.execute_input": "2022-02-16T08:36:17.371261Z",
     "iopub.status.busy": "2022-02-16T08:36:17.370295Z",
     "iopub.status.idle": "2022-02-16T08:36:17.602901Z",
     "shell.execute_reply": "2022-02-16T08:36:17.602350Z",
     "shell.execute_reply.started": "2022-02-16T08:35:19.708105Z"
    },
    "papermill": {
     "duration": 0.267391,
     "end_time": "2022-02-16T08:36:17.603062",
     "exception": false,
     "start_time": "2022-02-16T08:36:17.335671",
     "status": "completed"
    },
    "tags": []
   },
   "outputs": [
    {
     "data": {
      "image/png": "[encoded data removed]",
      "text/plain": [
       "<Figure size 432x288 with 1 Axes>"
      ]
     },
     "metadata": {},
     "output_type": "display_data"
    }
   ],
   "source": [
    "losses = [x['val_loss'] for x in history]\n",
    "plt.plot(losses, '-x')\n",
    "plt.xlabel('epoch')\n",
    "plt.ylabel('loss')\n",
    "plt.title('Loss vs. No. of epochs');"
   ]
  },
  {
   "cell_type": "code",
   "execution_count": 18,
   "id": "1c5ebca6",
   "metadata": {
    "execution": {
     "iopub.execute_input": "2022-02-16T08:36:17.671146Z",
     "iopub.status.busy": "2022-02-16T08:36:17.670372Z",
     "iopub.status.idle": "2022-02-16T08:36:17.673340Z",
     "shell.execute_reply": "2022-02-16T08:36:17.672806Z",
     "shell.execute_reply.started": "2022-02-16T08:35:19.709856Z"
    },
    "papermill": {
     "duration": 0.038766,
     "end_time": "2022-02-16T08:36:17.673483",
     "exception": false,
     "start_time": "2022-02-16T08:36:17.634717",
     "status": "completed"
    },
    "tags": []
   },
   "outputs": [],
   "source": [
    "# Save model and losses\n",
    "#torch.save(model2.state_dict(), 'HW_1_1_func1model2_v1.pth')\n",
    "#pd.DataFrame(losses).to_csv('HW_1_1_func1model2_v1_losses.csv',index=False)"
   ]
  }
 ],
 "metadata": {
  "kernelspec": {
   "display_name": "Python 3",
   "language": "python",
   "name": "python3"
  },
  "language_info": {
   "codemirror_mode": {
    "name": "ipython",
    "version": 3
   },
   "file_extension": ".py",
   "mimetype": "text/x-python",
   "name": "python",
   "nbconvert_exporter": "python",
   "pygments_lexer": "ipython3",
   "version": "3.7.12"
  },
  "papermill": {
   "default_parameters": {},
   "duration": 17.510404,
   "end_time": "2022-02-16T08:36:18.717913",
   "environment_variables": {},
   "exception": null,
   "input_path": "__notebook__.ipynb",
   "output_path": "__notebook__.ipynb",
   "parameters": {},
   "start_time": "2022-02-16T08:36:01.207509",
   "version": "2.3.3"
  }
 },
 "nbformat": 4,
 "nbformat_minor": 5
}
