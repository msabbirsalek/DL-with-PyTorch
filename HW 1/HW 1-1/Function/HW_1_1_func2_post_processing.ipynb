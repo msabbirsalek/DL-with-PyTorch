{
 "cells": [
  {
   "cell_type": "code",
   "execution_count": 1,
   "id": "084f8660",
   "metadata": {},
   "outputs": [],
   "source": [
    "# Import Libraries\n",
    "import torch\n",
    "import csv\n",
    "import numpy as np\n",
    "import matplotlib\n",
    "import matplotlib.pyplot as plt\n",
    "import torch.nn as nn\n",
    "import torch.nn.functional as F\n",
    "from torch.utils.data import TensorDataset\n",
    "from torch.utils.data.dataloader import DataLoader\n",
    "from torch.utils.data import random_split\n",
    "import import_ipynb\n",
    "%matplotlib inline\n",
    "matplotlib.rcParams['figure.facecolor'] = '#ffffff'   # Background_color = white (fot matplotlib figures)"
   ]
  },
  {
   "cell_type": "code",
   "execution_count": 2,
   "id": "dea73a04",
   "metadata": {},
   "outputs": [],
   "source": [
    "class Func_2_Model0(nn.Module):\n",
    "    def __init__(self, in_size, dense_size_1, dense_size_2, dense_size_3, \n",
    "                 dense_size_4, dense_size_5, dense_size_6, dense_size_7, dense_size_8):\n",
    "        super().__init__()\n",
    "        # input layer\n",
    "        self.in_layer = nn.Linear(in_size, in_size)\n",
    "        # dense layer 1\n",
    "        self.dense1 = nn.Linear(in_size, dense_size_1)\n",
    "        # dense layer 2\n",
    "        self.dense2 = nn.Linear(dense_size_1, dense_size_2)\n",
    "        # dense layer 3\n",
    "        self.dense3 = nn.Linear(dense_size_2, dense_size_3)\n",
    "        # dense layer 4\n",
    "        self.dense4 = nn.Linear(dense_size_3, dense_size_4)\n",
    "        # dense layer 5\n",
    "        self.dense5 = nn.Linear(dense_size_4, dense_size_5)\n",
    "        # dense layer 6\n",
    "        self.dense6 = nn.Linear(dense_size_5, dense_size_6)\n",
    "        # dense layer 7\n",
    "        self.dense7 = nn.Linear(dense_size_6, dense_size_7)\n",
    "        # dense layer 8\n",
    "        self.dense8 = nn.Linear(dense_size_7, dense_size_8)\n",
    "        \n",
    "    def forward(self, input_data):\n",
    "        input_data = input_data.view(input_data.size(0), -1)\n",
    "        \n",
    "        # outputs using input layer\n",
    "        out = self.in_layer(input_data)\n",
    "        # activation function for input layer\n",
    "        out = F.leaky_relu(out)\n",
    "        \n",
    "        # outputs using dense layer 1\n",
    "        out = self.dense1(out)\n",
    "        # activation function for dense layer 1\n",
    "        out = F.leaky_relu(out)\n",
    "        \n",
    "        # outputs using dense layer 2\n",
    "        out = self.dense2(out)\n",
    "        # activation function for dense layer 2\n",
    "        out = F.leaky_relu(out)\n",
    "        \n",
    "        # outputs using dense layer 3\n",
    "        out = self.dense3(out)\n",
    "        # activation function for dense layer 3\n",
    "        out = F.leaky_relu(out)\n",
    "        \n",
    "        # outputs using dense layer 4\n",
    "        out = self.dense4(out)\n",
    "        # activation function for dense layer 4\n",
    "        out = F.leaky_relu(out)\n",
    "        \n",
    "        # outputs using dense layer 5\n",
    "        out = self.dense5(out)\n",
    "        # activation function for dense layer 5\n",
    "        out = F.leaky_relu(out)\n",
    "        \n",
    "        # outputs using dense layer 6\n",
    "        out = self.dense6(out)\n",
    "        # activation function for dense layer 6\n",
    "        out = F.leaky_relu(out)\n",
    "        \n",
    "        # outputs using dense layer 7\n",
    "        out = self.dense7(out)\n",
    "        # activation function for dense layer 7\n",
    "        out = F.leaky_relu(out)\n",
    "        \n",
    "        # predictions using dense layer 8\n",
    "        out = self.dense8(out)\n",
    "        return out\n",
    " \n",
    "    def train(self, batch):\n",
    "        x, y = batch \n",
    "        y = y.view(y.size(0), -1)\n",
    "        out = self(x)                  # Generate predictions\n",
    "        loss = F.mse_loss(out, y)      # Calculate loss\n",
    "        return loss\n",
    "    \n",
    "    def validate(self, batch):\n",
    "        x, y = batch \n",
    "        y = y.view(y.size(0), -1)\n",
    "        out = self(x)                    # Generate predictions\n",
    "        loss = F.mse_loss(out, y)        # Calculate loss\n",
    "        return {'test_loss': loss}\n",
    "        \n",
    "    def validation_end(self, outputs):\n",
    "        batch_losses = [x['test_loss'] for x in outputs]\n",
    "        epoch_loss = torch.stack(batch_losses).mean()   # Combine losses\n",
    "        return {'test_loss': epoch_loss.item()}\n",
    "    \n",
    "    def epoch_end(self, epoch, result):\n",
    "        print(\"Epoch [{}], test_loss: {:.4f}\".format(epoch, result['test_loss']))"
   ]
  },
  {
   "cell_type": "code",
   "execution_count": 3,
   "id": "82ff622c",
   "metadata": {},
   "outputs": [],
   "source": [
    "class Func_2_Model1(nn.Module):\n",
    "    def __init__(self, in_size, dense_size_1, dense_size_2, dense_size_3, \n",
    "                 dense_size_4, dense_size_5):\n",
    "        super().__init__()\n",
    "        # input layer\n",
    "        self.in_layer = nn.Linear(in_size, in_size)\n",
    "        # dense layer 1\n",
    "        self.dense1 = nn.Linear(in_size, dense_size_1)\n",
    "        # dense layer 2\n",
    "        self.dense2 = nn.Linear(dense_size_1, dense_size_2)\n",
    "        # dense layer 3\n",
    "        self.dense3 = nn.Linear(dense_size_2, dense_size_3)\n",
    "        # dense layer 4\n",
    "        self.dense4 = nn.Linear(dense_size_3, dense_size_4)\n",
    "        # dense layer 5\n",
    "        self.dense5 = nn.Linear(dense_size_4, dense_size_5)\n",
    "        \n",
    "    def forward(self, input_data):\n",
    "        input_data = input_data.view(input_data.size(0), -1)\n",
    "        \n",
    "        # outputs using input layer\n",
    "        out = self.in_layer(input_data)\n",
    "        # activation function for input layer\n",
    "        out = F.leaky_relu(out)\n",
    "        \n",
    "        # outputs using dense layer 1\n",
    "        out = self.dense1(out)\n",
    "        # activation function for dense layer 1\n",
    "        out = F.leaky_relu(out)\n",
    "        \n",
    "        # outputs using dense layer 2\n",
    "        out = self.dense2(out)\n",
    "        # activation function for dense layer 2\n",
    "        out = F.leaky_relu(out)\n",
    "        \n",
    "        # outputs using dense layer 3\n",
    "        out = self.dense3(out)\n",
    "        # activation function for dense layer 3\n",
    "        out = F.leaky_relu(out)\n",
    "        \n",
    "        # outputs using dense layer 4\n",
    "        out = self.dense4(out)\n",
    "        # activation function for dense layer 4\n",
    "        out = F.leaky_relu(out)\n",
    "       \n",
    "        # predictions using dense layer 5\n",
    "        out = self.dense5(out)\n",
    "        return out\n",
    " \n",
    "    def train(self, batch):\n",
    "        x, y = batch \n",
    "        y = y.view(y.size(0), -1)\n",
    "        out = self(x)                  # Generate predictions\n",
    "        loss = F.mse_loss(out, y)      # Calculate loss\n",
    "        return loss\n",
    "    \n",
    "    def validate(self, batch):\n",
    "        x, y = batch \n",
    "        y = y.view(y.size(0), -1)\n",
    "        out = self(x)                    # Generate predictions\n",
    "        loss = F.mse_loss(out, y)        # Calculate loss\n",
    "        return {'test_loss': loss}\n",
    "        \n",
    "    def validation_end(self, outputs):\n",
    "        batch_losses = [x['test_loss'] for x in outputs]\n",
    "        epoch_loss = torch.stack(batch_losses).mean()   # Combine losses\n",
    "        return {'test_loss': epoch_loss.item()}\n",
    "    \n",
    "    def epoch_end(self, epoch, result):\n",
    "        print(\"Epoch [{}], test_loss: {:.4f}\".format(epoch, result['test_loss']))"
   ]
  },
  {
   "cell_type": "code",
   "execution_count": 4,
   "id": "ad4abeff",
   "metadata": {},
   "outputs": [],
   "source": [
    "class Func_2_Model2(nn.Module):\n",
    "    def __init__(self, in_size, dense_size_1, dense_size_2):\n",
    "        super().__init__()\n",
    "        # input layer\n",
    "        self.in_layer = nn.Linear(in_size, in_size)\n",
    "        # dense layer 1\n",
    "        self.dense1 = nn.Linear(in_size, dense_size_1)\n",
    "        # dense layer 2\n",
    "        self.dense2 = nn.Linear(dense_size_1, dense_size_2)\n",
    "        \n",
    "    def forward(self, input_data):\n",
    "        input_data = input_data.view(input_data.size(0), -1)\n",
    "        \n",
    "        # outputs using input layer\n",
    "        out = self.in_layer(input_data)\n",
    "        # activation function for input layer\n",
    "        out = F.leaky_relu(out)\n",
    "        \n",
    "        # outputs using dense layer 1\n",
    "        out = self.dense1(out)\n",
    "        # activation function for dense layer 1\n",
    "        out = F.leaky_relu(out)\n",
    "       \n",
    "        # predictions using dense layer 2\n",
    "        out = self.dense2(out)\n",
    "        return out\n",
    " \n",
    "    def train(self, batch):\n",
    "        x, y = batch \n",
    "        y = y.view(y.size(0), -1)\n",
    "        out = self(x)                  # Generate predictions\n",
    "        loss = F.mse_loss(out, y)      # Calculate loss\n",
    "        return loss\n",
    "    \n",
    "    def validate(self, batch):\n",
    "        x, y = batch \n",
    "        y = y.view(y.size(0), -1)\n",
    "        out = self(x)                    # Generate predictions\n",
    "        loss = F.mse_loss(out, y)        # Calculate loss\n",
    "        return {'test_loss': loss}\n",
    "        \n",
    "    def validation_end(self, outputs):\n",
    "        batch_losses = [x['test_loss'] for x in outputs]\n",
    "        epoch_loss = torch.stack(batch_losses).mean()   # Combine losses\n",
    "        return {'test_loss': epoch_loss.item()}\n",
    "    \n",
    "    def epoch_end(self, epoch, result):\n",
    "        print(\"Epoch [{}], test_loss: {:.4f}\".format(epoch, result['test_loss']))"
   ]
  },
  {
   "cell_type": "code",
   "execution_count": 5,
   "id": "4083ffd0",
   "metadata": {},
   "outputs": [],
   "source": [
    "# Define NN layer sizes for model0\n",
    "input_size = 1\n",
    "dense_size_1 = 5\n",
    "dense_size_2 = 10\n",
    "dense_size_3 = 10\n",
    "dense_size_4 = 10\n",
    "dense_size_5 = 10\n",
    "dense_size_6 = 10\n",
    "dense_size_7 = 5\n",
    "dense_size_8 = 1\n",
    "model0 = Func_2_Model0(input_size, dense_size_1, dense_size_2, dense_size_3, dense_size_4,\n",
    "                      dense_size_5, dense_size_6, dense_size_7, dense_size_8).double()"
   ]
  },
  {
   "cell_type": "code",
   "execution_count": 6,
   "id": "64470f4d",
   "metadata": {},
   "outputs": [],
   "source": [
    "# Define NN layer sizes for model1\n",
    "input_size = 1\n",
    "dense_size_1 = 10\n",
    "dense_size_2 = 18\n",
    "dense_size_3 = 15\n",
    "dense_size_4 = 4\n",
    "dense_size_5 = 1\n",
    "model1 = Func_2_Model1(input_size, dense_size_1, dense_size_2, \n",
    "                       dense_size_3, dense_size_4, dense_size_5).double()"
   ]
  },
  {
   "cell_type": "code",
   "execution_count": 7,
   "id": "915dbb76",
   "metadata": {},
   "outputs": [],
   "source": [
    "# Define NN layer sizes for model2\n",
    "input_size = 1\n",
    "dense_size_1 = 190\n",
    "dense_size_2 = 1\n",
    "model2 = Func_2_Model2(input_size, dense_size_1, dense_size_2).double()"
   ]
  },
  {
   "cell_type": "code",
   "execution_count": 8,
   "id": "19038aeb",
   "metadata": {},
   "outputs": [
    {
     "data": {
      "text/plain": [
       "<All keys matched successfully>"
      ]
     },
     "execution_count": 8,
     "metadata": {},
     "output_type": "execute_result"
    }
   ],
   "source": [
    "model0.load_state_dict(torch.load('HW_1_1_func2model0_v1.pth'))\n",
    "model1.load_state_dict(torch.load('HW_1_1_func2model1_v1.pth'))\n",
    "model2.load_state_dict(torch.load('HW_1_1_func2model2_v1.pth'))"
   ]
  },
  {
   "cell_type": "code",
   "execution_count": 12,
   "id": "7f0f6687",
   "metadata": {},
   "outputs": [
    {
     "data": {
      "text/plain": [
       "tensor([1.4284e-04, 2.8567e-04, 4.2851e-04,  ..., 9.9957e-01, 9.9971e-01,\n",
       "        9.9986e-01], dtype=torch.float64)"
      ]
     },
     "execution_count": 12,
     "metadata": {},
     "output_type": "execute_result"
    }
   ],
   "source": [
    "inputs = np.array([x/7001 for x in range(1,7001)], dtype='double')\n",
    "array1 = np.sign(np.sin(5*np.pi*inputs))\n",
    "targets = np.array(array1, dtype='double')\n",
    "\n",
    "# Convert inputs to tensors\n",
    "inputs = torch.from_numpy(inputs)\n",
    "\n",
    "inputs"
   ]
  },
  {
   "cell_type": "code",
   "execution_count": 13,
   "id": "dc37b244",
   "metadata": {},
   "outputs": [],
   "source": [
    "# Generate predictions using the models\n",
    "pred_model0 = model0.forward(inputs.view(inputs.size(0), -1))\n",
    "pred_model1 = model1.forward(inputs.view(inputs.size(0), -1))\n",
    "pred_model2 = model2.forward(inputs.view(inputs.size(0), -1))"
   ]
  },
  {
   "cell_type": "code",
   "execution_count": 20,
   "id": "7bb61a41",
   "metadata": {},
   "outputs": [
    {
     "data": {
      "image/png": "[encoded data removed]",
      "text/plain": [
       "<Figure size 432x288 with 1 Axes>"
      ]
     },
     "metadata": {},
     "output_type": "display_data"
    }
   ],
   "source": [
    "plt.plot(inputs,targets,'k', label=\"Ground_truth\")\n",
    "plt.plot(inputs, pred_model0.detach().numpy(), label=\"Model_0\")\n",
    "plt.plot(inputs, pred_model1.detach().numpy(), label=\"Model_1\")\n",
    "plt.plot(inputs, pred_model2.detach().numpy(), label=\"Model_2\")\n",
    "plt.xlabel('x')\n",
    "plt.ylabel('sgn(sin(5*pi*x))')\n",
    "plt.legend(loc=\"upper right\")\n",
    "plt.title('Model predictions against ground truth')\n",
    "plt.show();"
   ]
  },
  {
   "cell_type": "code",
   "execution_count": 15,
   "id": "2c69f4c4",
   "metadata": {},
   "outputs": [],
   "source": [
    "def loss_from_csv(filename):\n",
    "    # initializing the titles and rows list\n",
    "    fields = []\n",
    "    rows = []\n",
    "    \n",
    "    # reading csv file\n",
    "    with open(filename, 'r') as csvfile:\n",
    "        # creating a csv reader object\n",
    "        csvreader = csv.reader(csvfile)\n",
    "      \n",
    "        # extracting field names through first row\n",
    "        fields = next(csvreader)\n",
    "  \n",
    "        # extracting each data row one by one\n",
    "        for row in csvreader:\n",
    "            rows.append(row)\n",
    "            \n",
    "    return rows"
   ]
  },
  {
   "cell_type": "code",
   "execution_count": 16,
   "id": "02deb567",
   "metadata": {},
   "outputs": [],
   "source": [
    "model0_losses = loss_from_csv('HW_1_1_func2model0_v1_losses.csv')\n",
    "model1_losses = loss_from_csv('HW_1_1_func2model1_v1_losses.csv')\n",
    "model2_losses = loss_from_csv('HW_1_1_func2model2_v1_losses.csv')\n",
    "model0_losses = [float(x[0]) for x in model0_losses]\n",
    "model1_losses = [float(x[0]) for x in model1_losses]\n",
    "model2_losses = [float(x[0]) for x in model2_losses]"
   ]
  },
  {
   "cell_type": "code",
   "execution_count": 17,
   "id": "aa701de8",
   "metadata": {},
   "outputs": [
    {
     "data": {
      "image/png": "[encoded data removed]",
      "text/plain": [
       "<Figure size 432x288 with 1 Axes>"
      ]
     },
     "metadata": {},
     "output_type": "display_data"
    }
   ],
   "source": [
    "plt.plot(model0_losses, label=\"Model_0\")\n",
    "plt.plot(model1_losses, label=\"Model_1\")\n",
    "plt.plot(model2_losses, label=\"Model_2\")\n",
    "plt.xlabel('Epoch')\n",
    "plt.ylabel('Loss')\n",
    "plt.legend(loc=\"upper right\")\n",
    "plt.title('Loss vs. No. of epochs')\n",
    "plt.show();"
   ]
  },
  {
   "cell_type": "code",
   "execution_count": null,
   "id": "870d56ee",
   "metadata": {},
   "outputs": [],
   "source": []
  }
 ],
 "metadata": {
  "kernelspec": {
   "display_name": "Python 3 (ipykernel)",
   "language": "python",
   "name": "python3"
  },
  "language_info": {
   "codemirror_mode": {
    "name": "ipython",
    "version": 3
   },
   "file_extension": ".py",
   "mimetype": "text/x-python",
   "name": "python",
   "nbconvert_exporter": "python",
   "pygments_lexer": "ipython3",
   "version": "3.9.7"
  }
 },
 "nbformat": 4,
 "nbformat_minor": 5
}
